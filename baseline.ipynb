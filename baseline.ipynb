{
 "cells": [
  {
   "cell_type": "markdown",
   "metadata": {},
   "source": [
    "Xinyuan Chen HW3 (baseline)\n",
    "\n",
    "## Approach\n",
    "\n",
    "Find a weight for Jaccard similarity (see [baseline.ipynb](./baseline.ipynb)) and recipe popularity percentile (see [baselines.ipy](./baselines.py)), and calculate the weighed average.\n",
    "\n",
    "If the weighed average >= a value we set (here we use 0.5), the user_id and recipe_id combination is predicted to be actually have happened.\n",
    "## Baseline\n",
    "\n",
    "An alternate baseline than the one provided might make use of the Jaccard similarity (or another similarity metric). Given a pair (u,g) in the validation set, consider all training items g′that user u has\n",
    "cooked. For each, compute the Jaccard similarity between g and g′, i.e., users (in the training set) who\n",
    "have made g and users who have made g′. Predict as ‘made’ if the maximum of these Jaccard similarities\n",
    "exceeds a threshold.\n",
    "\n",
    "There are 500,000 entries in the csv file, we use 2% of them (10,000 entries) as the validation dataset, and generate another 10,000 random combination of user_id and recipe_id and add them to the validation set.\n",
    "\n",
    "### The goal \n",
    "\n",
    "Determine an optimal `threshold` for the Jaccard similarity for this binary classification problem.\n"
   ]
  },
  {
   "cell_type": "code",
   "execution_count": 12,
   "metadata": {},
   "outputs": [
    {
     "data": {
      "text/plain": [
       "[(490000, 2), (10000, 2), (490000, 1), (10000, 1)]"
      ]
     },
     "execution_count": 12,
     "metadata": {},
     "output_type": "execute_result"
    }
   ],
   "source": [
    "from typing import Literal\n",
    "ResultType = Literal[0, 1]\n",
    "import matplotlib.pyplot as plt\n",
    "from sklearn.model_selection import train_test_split\n",
    "import numpy as np\n",
    "from numpy import genfromtxt\n",
    "my_data = genfromtxt('trainInteractions.csv', delimiter=',', dtype=int, skip_header=1)\n",
    "d = my_data\n",
    "# drop the last 2 columns of d\n",
    "d = d[:,:-2]\n",
    "y = np.ones((500_000, 1), dtype=int)\n",
    "X_train, X_test, y_train, y_test = train_test_split(d,\n",
    "                                                    y,\n",
    "                                                    test_size=0.02,\n",
    "                                                    random_state=42)\n",
    "[x.shape for x in (X_train, X_test, y_train, y_test)]"
   ]
  },
  {
   "cell_type": "code",
   "execution_count": 4,
   "metadata": {},
   "outputs": [],
   "source": [
    "from collections import defaultdict\n",
    "user_cooked_set_train = defaultdict(set)\n",
    "recipe_to_users_train = defaultdict(set)\n",
    "\n",
    "for u, r in X_train:\n",
    "\tuser_cooked_set_train[u].add(r)\n",
    "\trecipe_to_users_train[r].add(u)"
   ]
  },
  {
   "cell_type": "code",
   "execution_count": 10,
   "metadata": {},
   "outputs": [],
   "source": [
    "def jaccard(a: set, b: set) -> float:\n",
    "\treturn len(a.intersection(b)) / len(a.union(b))\n",
    "\n",
    "def jaccard_sim_max(user_id: int, recipe_id: int) -> float:\n",
    "    recipes_cooked_by_user_id = user_cooked_set_train[user_id]\n",
    "    users_that_used_recipe_id = recipe_to_users_train[recipe_id]\n",
    "    return max((jaccard(users_that_used_recipe_id, recipe_to_users_train[r])\n",
    "                for r in recipes_cooked_by_user_id),\n",
    "               default=.0)\n",
    "\n",
    "\n",
    "def gen_random_validation_set(\n",
    "        X_train: np.ndarray,\n",
    "        user_cooked_set_train: dict[int,\n",
    "                                    set]) -> tuple[int, int]:  # type: ignore\n",
    "    # already_done = True\n",
    "    while 1:\n",
    "        # choose a random user from the first column in X_train\n",
    "        user_id = np.random.choice(X_train[:, 0])\n",
    "        recipe_id = np.random.choice(X_train[:, 1])\n",
    "        if recipe_id not in user_cooked_set_train[user_id]:\n",
    "            # already_done = False\n",
    "            return user_id, recipe_id\n",
    "\n",
    "def max_sim_to_result(max_sim: float, threshold: float, expected: ResultType) -> bool:\n",
    "\tif max_sim >= threshold:\n",
    "\t\tresult = 1\n",
    "\telse:\n",
    "\t\tresult = 0\n",
    "\treturn result == expected"
   ]
  },
  {
   "cell_type": "code",
   "execution_count": 21,
   "metadata": {},
   "outputs": [
    {
     "data": {
      "text/plain": [
       "(20000,)"
      ]
     },
     "execution_count": 21,
     "metadata": {},
     "output_type": "execute_result"
    }
   ],
   "source": [
    "random_list: list[tuple[int, int]] = [\n",
    "    gen_random_validation_set(X_train, user_cooked_set_train)\n",
    "    for _ in range(X_test.shape[0])\n",
    "]\n",
    "X_random = np.array(random_list)\n",
    "# X_random.shape\n",
    "X_test_and_random = np.vstack((X_test, X_random))\n",
    "# X_test_and_random.shape\n",
    "Y_random = np.array([[0] for _ in range(X_random.shape[0])])\n",
    "# Y_random.shape, y_test.shape\n",
    "\n",
    "y_test_and_random = np.vstack((y_test, Y_random))\n",
    "# y_test_and_random.shape\n",
    "y_test_and_random.reshape((y_test_and_random.shape[0],))\n",
    "# y_test_and_random.shape\n",
    "y_test_and_random[(X_random.shape[0] - 2):(X_random.shape[0] + 2), :]\n",
    "y_test_and_random.resize((y_test_and_random.shape[0],))\n",
    "y_test_and_random.shape"
   ]
  },
  {
   "cell_type": "code",
   "execution_count": 7,
   "metadata": {},
   "outputs": [],
   "source": [
    "jaccard_max_sims = [jaccard_sim_max(u, r) for u, r in X_test_and_random]"
   ]
  },
  {
   "cell_type": "code",
   "execution_count": 11,
   "metadata": {},
   "outputs": [
    {
     "data": {
      "text/plain": [
       "20000"
      ]
     },
     "execution_count": 11,
     "metadata": {},
     "output_type": "execute_result"
    }
   ],
   "source": [
    "len(jaccard_max_sims)"
   ]
  },
  {
   "cell_type": "code",
   "execution_count": 15,
   "metadata": {},
   "outputs": [],
   "source": [
    "def plot_accuracies(start, stop, step):\n",
    "\taccuracies: list[tuple[float, float]] = []\n",
    "\tfor threshold in np.arange(start, stop, step):\n",
    "\t\tpredictions_binary = [max_sim_to_result(x, threshold, y_test_and_random[i]) for i, x in enumerate(jaccard_max_sims)]\n",
    "\t\taccuracy = sum(predictions_binary) / len(predictions_binary)\n",
    "\t\taccuracies.append((threshold, accuracy))\n",
    "\tplt.scatter(*zip(*accuracies)) # type: ignore\n",
    "\tplt.show()"
   ]
  },
  {
   "cell_type": "code",
   "execution_count": 22,
   "metadata": {},
   "outputs": [
    {
     "data": {
      "image/png": "[encoded data removed]",
      "text/plain": [
       "<Figure size 432x288 with 1 Axes>"
      ]
     },
     "metadata": {
      "needs_background": "light"
     },
     "output_type": "display_data"
    }
   ],
   "source": [
    "plot_accuracies(0.0, 1.0, 0.01)"
   ]
  },
  {
   "cell_type": "code",
   "execution_count": 19,
   "metadata": {},
   "outputs": [
    {
     "data": {
      "image/png": "[encoded data removed]",
      "text/plain": [
       "<Figure size 432x288 with 1 Axes>"
      ]
     },
     "metadata": {
      "needs_background": "light"
     },
     "output_type": "display_data"
    }
   ],
   "source": [
    "plot_accuracies(0.1, 0.25, 0.001)"
   ]
  },
  {
   "cell_type": "code",
   "execution_count": 20,
   "metadata": {},
   "outputs": [
    {
     "data": {
      "image/png": "[encoded data removed]",
      "text/plain": [
       "<Figure size 432x288 with 1 Axes>"
      ]
     },
     "metadata": {
      "needs_background": "light"
     },
     "output_type": "display_data"
    }
   ],
   "source": [
    "plot_accuracies(0.14, 0.16, 0.0001)"
   ]
  },
  {
   "cell_type": "markdown",
   "metadata": {},
   "source": [
    "### Result\n",
    "\n",
    "Here we choose the optimal `threshold` for Jaccard similarity as `0.1430`."
   ]
  }
 ],
 "metadata": {
  "interpreter": {
   "hash": "0691836f2c36ad69511e01cf4a640149ee224e5af13b1611cd4c10702a214822"
  },
  "kernelspec": {
   "display_name": "Python 3.10.4 ('dl')",
   "language": "python",
   "name": "python3"
  },
  "language_info": {
   "codemirror_mode": {
    "name": "ipython",
    "version": 3
   },
   "file_extension": ".py",
   "mimetype": "text/x-python",
   "name": "python",
   "nbconvert_exporter": "python",
   "pygments_lexer": "ipython3",
   "version": "3.10.4"
  },
  "orig_nbformat": 4
 },
 "nbformat": 4,
 "nbformat_minor": 2
}
