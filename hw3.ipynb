{
 "cells": [
  {
   "cell_type": "markdown",
   "metadata": {},
   "source": [
    "Xinyuan Chen HW3 (main)\n",
    "\n",
    "## Approach\n",
    "\n",
    "Find a weight for Jaccard similarity (see [baseline.ipynb](./baseline.ipynb)) and recipe popularity percentile (see [baselines.ipy](./baselines.py)), and calculate the weighed average.\n",
    "\n",
    "If the weighed average >= a value we set (here we use 0.5), the user_id and recipe_id combination is predicted to be actually have happened."
   ]
  },
  {
   "cell_type": "code",
   "execution_count": 2,
   "metadata": {},
   "outputs": [
    {
     "data": {
      "text/html": [
       "\n",
       "<style type='text/css'>\n",
       "pre { line-height: 125%; }\n",
       "td.linenos .normal { color: inherit; background-color: transparent; padding-left: 5px; padding-right: 5px; }\n",
       "span.linenos { color: inherit; background-color: transparent; padding-left: 5px; padding-right: 5px; }\n",
       "td.linenos .special { color: #000000; background-color: #ffffc0; padding-left: 5px; padding-right: 5px; }\n",
       "span.linenos.special { color: #000000; background-color: #ffffc0; padding-left: 5px; padding-right: 5px; }\n",
       ".hll { background-color: #ffffcc }\n",
       ".c { color: #3D7B7B; font-style: italic } /* Comment */\n",
       ".err { border: 1px solid #FF0000 } /* Error */\n",
       ".k { color: #008000; font-weight: bold } /* Keyword */\n",
       ".o { color: #666666 } /* Operator */\n",
       ".ch { color: #3D7B7B; font-style: italic } /* Comment.Hashbang */\n",
       ".cm { color: #3D7B7B; font-style: italic } /* Comment.Multiline */\n",
       ".cp { color: #9C6500 } /* Comment.Preproc */\n",
       ".cpf { color: #3D7B7B; font-style: italic } /* Comment.PreprocFile */\n",
       ".c1 { color: #3D7B7B; font-style: italic } /* Comment.Single */\n",
       ".cs { color: #3D7B7B; font-style: italic } /* Comment.Special */\n",
       ".gd { color: #A00000 } /* Generic.Deleted */\n",
       ".ge { font-style: italic } /* Generic.Emph */\n",
       ".gr { color: #E40000 } /* Generic.Error */\n",
       ".gh { color: #000080; font-weight: bold } /* Generic.Heading */\n",
       ".gi { color: #008400 } /* Generic.Inserted */\n",
       ".go { color: #717171 } /* Generic.Output */\n",
       ".gp { color: #000080; font-weight: bold } /* Generic.Prompt */\n",
       ".gs { font-weight: bold } /* Generic.Strong */\n",
       ".gu { color: #800080; font-weight: bold } /* Generic.Subheading */\n",
       ".gt { color: #0044DD } /* Generic.Traceback */\n",
       ".kc { color: #008000; font-weight: bold } /* Keyword.Constant */\n",
       ".kd { color: #008000; font-weight: bold } /* Keyword.Declaration */\n",
       ".kn { color: #008000; font-weight: bold } /* Keyword.Namespace */\n",
       ".kp { color: #008000 } /* Keyword.Pseudo */\n",
       ".kr { color: #008000; font-weight: bold } /* Keyword.Reserved */\n",
       ".kt { color: #B00040 } /* Keyword.Type */\n",
       ".m { color: #666666 } /* Literal.Number */\n",
       ".s { color: #BA2121 } /* Literal.String */\n",
       ".na { color: #687822 } /* Name.Attribute */\n",
       ".nb { color: #008000 } /* Name.Builtin */\n",
       ".nc { color: #0000FF; font-weight: bold } /* Name.Class */\n",
       ".no { color: #880000 } /* Name.Constant */\n",
       ".nd { color: #AA22FF } /* Name.Decorator */\n",
       ".ni { color: #717171; font-weight: bold } /* Name.Entity */\n",
       ".ne { color: #CB3F38; font-weight: bold } /* Name.Exception */\n",
       ".nf { color: #0000FF } /* Name.Function */\n",
       ".nl { color: #767600 } /* Name.Label */\n",
       ".nn { color: #0000FF; font-weight: bold } /* Name.Namespace */\n",
       ".nt { color: #008000; font-weight: bold } /* Name.Tag */\n",
       ".nv { color: #19177C } /* Name.Variable */\n",
       ".ow { color: #AA22FF; font-weight: bold } /* Operator.Word */\n",
       ".w { color: #bbbbbb } /* Text.Whitespace */\n",
       ".mb { color: #666666 } /* Literal.Number.Bin */\n",
       ".mf { color: #666666 } /* Literal.Number.Float */\n",
       ".mh { color: #666666 } /* Literal.Number.Hex */\n",
       ".mi { color: #666666 } /* Literal.Number.Integer */\n",
       ".mo { color: #666666 } /* Literal.Number.Oct */\n",
       ".sa { color: #BA2121 } /* Literal.String.Affix */\n",
       ".sb { color: #BA2121 } /* Literal.String.Backtick */\n",
       ".sc { color: #BA2121 } /* Literal.String.Char */\n",
       ".dl { color: #BA2121 } /* Literal.String.Delimiter */\n",
       ".sd { color: #BA2121; font-style: italic } /* Literal.String.Doc */\n",
       ".s2 { color: #BA2121 } /* Literal.String.Double */\n",
       ".se { color: #AA5D1F; font-weight: bold } /* Literal.String.Escape */\n",
       ".sh { color: #BA2121 } /* Literal.String.Heredoc */\n",
       ".si { color: #A45A77; font-weight: bold } /* Literal.String.Interpol */\n",
       ".sx { color: #008000 } /* Literal.String.Other */\n",
       ".sr { color: #A45A77 } /* Literal.String.Regex */\n",
       ".s1 { color: #BA2121 } /* Literal.String.Single */\n",
       ".ss { color: #19177C } /* Literal.String.Symbol */\n",
       ".bp { color: #008000 } /* Name.Builtin.Pseudo */\n",
       ".fm { color: #0000FF } /* Name.Function.Magic */\n",
       ".vc { color: #19177C } /* Name.Variable.Class */\n",
       ".vg { color: #19177C } /* Name.Variable.Global */\n",
       ".vi { color: #19177C } /* Name.Variable.Instance */\n",
       ".vm { color: #19177C } /* Name.Variable.Magic */\n",
       ".il { color: #666666 } /* Literal.Number.Integer.Long */\n",
       "</style>\n"
      ],
      "text/plain": [
       "<IPython.core.display.HTML object>"
      ]
     },
     "metadata": {},
     "output_type": "display_data"
    },
    {
     "name": "stdout",
     "output_type": "stream",
     "text": [
      "importing Jupyter notebook from baseline.ipynb\n"
     ]
    },
    {
     "data": {
      "image/png": "[encoded data removed]",
      "text/plain": [
       "<Figure size 432x288 with 1 Axes>"
      ]
     },
     "metadata": {
      "needs_background": "light"
     },
     "output_type": "display_data"
    },
    {
     "data": {
      "image/png": "[encoded data removed]",
      "text/plain": [
       "<Figure size 432x288 with 1 Axes>"
      ]
     },
     "metadata": {
      "needs_background": "light"
     },
     "output_type": "display_data"
    },
    {
     "data": {
      "image/png": "[encoded data removed]",
      "text/plain": [
       "<Figure size 432x288 with 1 Axes>"
      ]
     },
     "metadata": {
      "needs_background": "light"
     },
     "output_type": "display_data"
    }
   ],
   "source": [
    "# make ipynb files importable\n",
    "from jupyter_utils_tddschn import notebook_importer\n",
    "\n",
    "# import the baseline.ipynb file\n",
    "import baseline"
   ]
  },
  {
   "cell_type": "code",
   "execution_count": 3,
   "metadata": {},
   "outputs": [],
   "source": [
    "from baseline import *"
   ]
  },
  {
   "cell_type": "code",
   "execution_count": 7,
   "metadata": {},
   "outputs": [
    {
     "data": {
      "text/plain": [
       "(490000,)"
      ]
     },
     "execution_count": 7,
     "metadata": {},
     "output_type": "execute_result"
    }
   ],
   "source": [
    "d.shape\n",
    "X_train.shape\n",
    "recipes_train = X_train[:, :-1]\n",
    "recipes_train = recipes_train.copy()\n",
    "recipes_train.resize((X_train.shape[0],))\n",
    "recipes_train.shape"
   ]
  },
  {
   "cell_type": "code",
   "execution_count": 8,
   "metadata": {},
   "outputs": [],
   "source": [
    "from collections import Counter, defaultdict\n",
    "import numpy as np\n",
    "recipe_counts = Counter(recipes_train)"
   ]
  },
  {
   "cell_type": "code",
   "execution_count": 9,
   "metadata": {},
   "outputs": [
    {
     "data": {
      "text/plain": [
       "[(32445558, 4671), (95482435, 3418), (54496210, 2847)]"
      ]
     },
     "execution_count": 9,
     "metadata": {},
     "output_type": "execute_result"
    }
   ],
   "source": [
    "recipe_counts.most_common(3)"
   ]
  },
  {
   "cell_type": "code",
   "execution_count": 10,
   "metadata": {},
   "outputs": [],
   "source": [
    "most_common_recipes = recipe_counts.most_common()"
   ]
  },
  {
   "cell_type": "code",
   "execution_count": 16,
   "metadata": {},
   "outputs": [],
   "source": [
    "most_common_recipes_id_normalized = [(i + 1, most_common_recipes[i][1]) for i in range(len(most_common_recipes))]"
   ]
  },
  {
   "cell_type": "code",
   "execution_count": 17,
   "metadata": {},
   "outputs": [
    {
     "data": {
      "text/plain": [
       "([(1, 4671), (2, 3418), (3, 2847)], [(13514, 1), (13515, 1), (13516, 1)])"
      ]
     },
     "execution_count": 17,
     "metadata": {},
     "output_type": "execute_result"
    }
   ],
   "source": [
    "len(most_common_recipes_id_normalized)\n",
    "most_common_recipes_id_normalized[:3], most_common_recipes_id_normalized[-3:]"
   ]
  },
  {
   "cell_type": "code",
   "execution_count": 18,
   "metadata": {},
   "outputs": [
    {
     "data": {
      "image/png": "[encoded data removed]",
      "text/plain": [
       "<Figure size 432x288 with 1 Axes>"
      ]
     },
     "metadata": {
      "needs_background": "light"
     },
     "output_type": "display_data"
    }
   ],
   "source": [
    "plt.scatter(*zip(*most_common_recipes_id_normalized, strict=True))\n",
    "plt.show()"
   ]
  },
  {
   "cell_type": "code",
   "execution_count": 21,
   "metadata": {},
   "outputs": [],
   "source": [
    "recipe_quantiles: dict[int, float] = {}\n",
    "cum_count = 0\n",
    "for recipe, count in most_common_recipes:\n",
    "\trecipe_quantiles[recipe] = cum_count / len(recipes_train)\n",
    "\tcum_count += count\n"
   ]
  },
  {
   "cell_type": "code",
   "execution_count": 22,
   "metadata": {},
   "outputs": [
    {
     "data": {
      "text/plain": [
       "{32445558: 0.0,\n",
       " 95482435: 0.00953265306122449,\n",
       " 54496210: 0.016508163265306124,\n",
       " 43615275: 0.022318367346938775,\n",
       " 59129763: 0.027351020408163264}"
      ]
     },
     "execution_count": 22,
     "metadata": {},
     "output_type": "execute_result"
    }
   ],
   "source": [
    "import itertools\n",
    "dict(itertools.islice(recipe_quantiles.items(), 5))"
   ]
  },
  {
   "cell_type": "code",
   "execution_count": 23,
   "metadata": {},
   "outputs": [],
   "source": [
    "recipe_quantiles_values = list(recipe_quantiles.values())\n",
    "recipe_quantiles_id_normalized: list[int, float] = [(i + 1, recipe_quantiles_values[i]) for i in range(len(recipe_quantiles_values))]"
   ]
  },
  {
   "cell_type": "code",
   "execution_count": 24,
   "metadata": {},
   "outputs": [
    {
     "data": {
      "image/png": "[encoded data removed]",
      "text/plain": [
       "<Figure size 432x288 with 1 Axes>"
      ]
     },
     "metadata": {
      "needs_background": "light"
     },
     "output_type": "display_data"
    }
   ],
   "source": [
    "plt.scatter(*zip(*recipe_quantiles_id_normalized, strict=True))\n",
    "plt.show()"
   ]
  },
  {
   "cell_type": "code",
   "execution_count": 33,
   "metadata": {},
   "outputs": [],
   "source": [
    "from collections import defaultdict\n",
    "jaccard_max_sims_dict: dict[tuple[int, int], float] = defaultdict(float)\n",
    "for u, r in X_test_and_random:\n",
    "\tjaccard_max_sims_dict[(u, r)] = jaccard_sim_max(u, r)"
   ]
  },
  {
   "cell_type": "code",
   "execution_count": 90,
   "metadata": {},
   "outputs": [],
   "source": [
    "def get_prediction_score(weight1: float, weight2: float, user_id: int, recipe_id: int) -> float:\n",
    "\t# sim_max = jaccard_sim_max(user_id, recipe_id)\n",
    "\tsim_max = jaccard_max_sims_dict[(user_id, recipe_id)]\n",
    "\treturn weight1 * sim_max + weight2 * (1 - recipe_quantiles.get(recipe_id, 1.0))\n",
    "\n",
    "def get_prediction(weight1: float, weight2: float, user_id: int, recipe_id: int) -> bool:\n",
    "\treturn get_prediction_score(weight1, weight2, user_id, recipe_id) >= 0.5"
   ]
  },
  {
   "cell_type": "code",
   "execution_count": 29,
   "metadata": {},
   "outputs": [],
   "source": [
    "# get the number of elements in np.arange(start, stop, step)\n",
    "def numpy_arange_element_count(start: float, stop: float, step: float) -> int:\n",
    "\tmod = (stop - start) / step\n",
    "\treturn int(mod) + int(mod != int(mod))"
   ]
  },
  {
   "cell_type": "code",
   "execution_count": 47,
   "metadata": {},
   "outputs": [],
   "source": [
    "import seaborn as sns\n",
    "\n",
    "def get_accuracies(start, stop, step, start2, stop2, step2) -> list[tuple[float, float, float]]:\n",
    "\taccuracies: list[tuple[float, float, float]] = []\n",
    "\td1, d2 = numpy_arange_element_count(start, stop, step), numpy_arange_element_count(start2, stop2, step2)\n",
    "\tfor weight1 in np.arange(start, stop, step):\n",
    "\t\tfor weight2 in np.arange(start2, stop2, step2):\n",
    "\t\t\tpredictions_binary = [get_prediction(weight1, weight2, u, r) for u, r in X_test_and_random]\n",
    "\t\t\taccuracy = sum(predictions_binary) / len(predictions_binary)\n",
    "\t\t\taccuracies.append((weight1, weight2, accuracy))\n",
    "\tarr = np.zeros((d1, d2))\n",
    "\treturn accuracies\n",
    "\n",
    "def plot_heatmap(accuracies: list[tuple[float, float, float]]) -> None:\n",
    "\tx, y, z = zip(*accuracies)\n",
    "\theatmap, _, _ = np.histogram2d(x, y, weights=z)\n",
    "\tplt.clf()\n",
    "\tplt.imshow(heatmap, cmap='hot')\n",
    "\tplt.show()"
   ]
  },
  {
   "cell_type": "code",
   "execution_count": 91,
   "metadata": {},
   "outputs": [],
   "source": [
    "accu = get_accuracies(0, 1, 0.1, 0, 1, 0.1)"
   ]
  },
  {
   "cell_type": "code",
   "execution_count": 92,
   "metadata": {},
   "outputs": [
    {
     "data": {
      "text/plain": [
       "([(0.0, 0.0, 0.0),\n",
       "  (0.0, 0.1, 0.0),\n",
       "  (0.0, 0.2, 0.0),\n",
       "  (0.0, 0.30000000000000004, 0.0),\n",
       "  (0.0, 0.4, 0.0)],\n",
       " [(0.9, 0.5, 0.0004),\n",
       "  (0.9, 0.6000000000000001, 0.00085),\n",
       "  (0.9, 0.7000000000000001, 0.00135),\n",
       "  (0.9, 0.8, 0.0016),\n",
       "  (0.9, 0.9, 0.002)])"
      ]
     },
     "execution_count": 92,
     "metadata": {},
     "output_type": "execute_result"
    }
   ],
   "source": [
    "accu[:3], accu[8:12]\n",
    "accu[:5], accu[-5:]"
   ]
  },
  {
   "cell_type": "code",
   "execution_count": 93,
   "metadata": {},
   "outputs": [
    {
     "data": {
      "image/png": "[encoded data removed]",
      "text/plain": [
       "<Figure size 432x288 with 1 Axes>"
      ]
     },
     "metadata": {
      "needs_background": "light"
     },
     "output_type": "display_data"
    }
   ],
   "source": [
    "plot_heatmap(accu)"
   ]
  },
  {
   "cell_type": "code",
   "execution_count": 67,
   "metadata": {},
   "outputs": [],
   "source": [
    "accu2 = get_accuracies(0.5, 1, 0.05, 0.5, 1, 0.05)"
   ]
  },
  {
   "cell_type": "code",
   "execution_count": 68,
   "metadata": {},
   "outputs": [
    {
     "data": {
      "text/plain": [
       "([(0.5, 0.5, 0.0001),\n",
       "  (0.5, 0.55, 0.0002),\n",
       "  (0.5, 0.6000000000000001, 0.0003),\n",
       "  (0.5, 0.6500000000000001, 0.0007),\n",
       "  (0.5, 0.7000000000000002, 0.00085)],\n",
       " [(0.9500000000000004, 0.7500000000000002, 0.00155),\n",
       "  (0.9500000000000004, 0.8000000000000003, 0.0017),\n",
       "  (0.9500000000000004, 0.8500000000000003, 0.00185),\n",
       "  (0.9500000000000004, 0.9000000000000004, 0.00205),\n",
       "  (0.9500000000000004, 0.9500000000000004, 0.0023)])"
      ]
     },
     "execution_count": 68,
     "metadata": {},
     "output_type": "execute_result"
    }
   ],
   "source": [
    "accu2[:5], accu2[-5:]"
   ]
  },
  {
   "cell_type": "code",
   "execution_count": 69,
   "metadata": {},
   "outputs": [
    {
     "data": {
      "image/png": "[encoded data removed]",
      "text/plain": [
       "<Figure size 432x288 with 1 Axes>"
      ]
     },
     "metadata": {
      "needs_background": "light"
     },
     "output_type": "display_data"
    }
   ],
   "source": [
    "plot_heatmap(accu2)"
   ]
  },
  {
   "cell_type": "code",
   "execution_count": 75,
   "metadata": {},
   "outputs": [],
   "source": [
    "accu3 = get_accuracies(1, 11, 0.5, 1, 11, 0.5)"
   ]
  },
  {
   "cell_type": "code",
   "execution_count": 76,
   "metadata": {},
   "outputs": [
    {
     "data": {
      "text/plain": [
       "[(1.0, 1.0, 0.0177),\n",
       " (1.0, 1.5, 0.01915),\n",
       " (1.0, 2.0, 0.02115),\n",
       " (1.0, 2.5, 0.0223),\n",
       " (1.0, 3.0, 0.0236),\n",
       " (1.0, 3.5, 0.0243),\n",
       " (1.0, 4.0, 0.02475),\n",
       " (1.0, 4.5, 0.02535),\n",
       " (1.0, 5.0, 0.02595),\n",
       " (1.0, 5.5, 0.02635),\n",
       " (1.0, 6.0, 0.0265),\n",
       " (1.0, 6.5, 0.0267),\n",
       " (1.0, 7.0, 0.02685),\n",
       " (1.0, 7.5, 0.02685),\n",
       " (1.0, 8.0, 0.02705),\n",
       " (1.0, 8.5, 0.02725),\n",
       " (1.0, 9.0, 0.0274),\n",
       " (1.0, 9.5, 0.02745),\n",
       " (1.0, 10.0, 0.0276),\n",
       " (1.0, 10.5, 0.02775),\n",
       " (1.5, 1.0, 0.0462),\n",
       " (1.5, 1.5, 0.04765),\n",
       " (1.5, 2.0, 0.04995),\n",
       " (1.5, 2.5, 0.05085),\n",
       " (1.5, 3.0, 0.0519),\n",
       " (1.5, 3.5, 0.0525),\n",
       " (1.5, 4.0, 0.05315),\n",
       " (1.5, 4.5, 0.0537),\n",
       " (1.5, 5.0, 0.05425),\n",
       " (1.5, 5.5, 0.0545),\n",
       " (1.5, 6.0, 0.0547),\n",
       " (1.5, 6.5, 0.0548),\n",
       " (1.5, 7.0, 0.05495),\n",
       " (1.5, 7.5, 0.05505),\n",
       " (1.5, 8.0, 0.0552),\n",
       " (1.5, 8.5, 0.05535),\n",
       " (1.5, 9.0, 0.05555),\n",
       " (1.5, 9.5, 0.0557),\n",
       " (1.5, 10.0, 0.0559),\n",
       " (1.5, 10.5, 0.056),\n",
       " (2.0, 1.0, 0.08485),\n",
       " (2.0, 1.5, 0.08635),\n",
       " (2.0, 2.0, 0.0884),\n",
       " (2.0, 2.5, 0.0893),\n",
       " (2.0, 3.0, 0.0903),\n",
       " (2.0, 3.5, 0.09075),\n",
       " (2.0, 4.0, 0.09125),\n",
       " (2.0, 4.5, 0.0919),\n",
       " (2.0, 5.0, 0.09235),\n",
       " (2.0, 5.5, 0.0927),\n",
       " (2.0, 6.0, 0.0928),\n",
       " (2.0, 6.5, 0.09285),\n",
       " (2.0, 7.0, 0.093),\n",
       " (2.0, 7.5, 0.09315),\n",
       " (2.0, 8.0, 0.09335),\n",
       " (2.0, 8.5, 0.0936),\n",
       " (2.0, 9.0, 0.09375),\n",
       " (2.0, 9.5, 0.0939),\n",
       " (2.0, 10.0, 0.094),\n",
       " (2.0, 10.5, 0.0942),\n",
       " (2.5, 1.0, 0.1252),\n",
       " (2.5, 1.5, 0.12695),\n",
       " (2.5, 2.0, 0.1289),\n",
       " (2.5, 2.5, 0.12965),\n",
       " (2.5, 3.0, 0.13045),\n",
       " (2.5, 3.5, 0.13105),\n",
       " (2.5, 4.0, 0.13175),\n",
       " (2.5, 4.5, 0.1322),\n",
       " (2.5, 5.0, 0.1325),\n",
       " (2.5, 5.5, 0.13285),\n",
       " (2.5, 6.0, 0.1329),\n",
       " (2.5, 6.5, 0.13295),\n",
       " (2.5, 7.0, 0.13305),\n",
       " (2.5, 7.5, 0.1333),\n",
       " (2.5, 8.0, 0.1335),\n",
       " (2.5, 8.5, 0.1336),\n",
       " (2.5, 9.0, 0.13375),\n",
       " (2.5, 9.5, 0.134),\n",
       " (2.5, 10.0, 0.1342),\n",
       " (2.5, 10.5, 0.1343),\n",
       " (3.0, 1.0, 0.15795),\n",
       " (3.0, 1.5, 0.15955),\n",
       " (3.0, 2.0, 0.1614),\n",
       " (3.0, 2.5, 0.16195),\n",
       " (3.0, 3.0, 0.1629),\n",
       " (3.0, 3.5, 0.1635),\n",
       " (3.0, 4.0, 0.1641),\n",
       " (3.0, 4.5, 0.16445),\n",
       " (3.0, 5.0, 0.1649),\n",
       " (3.0, 5.5, 0.1652),\n",
       " (3.0, 6.0, 0.1653),\n",
       " (3.0, 6.5, 0.16545),\n",
       " (3.0, 7.0, 0.16565),\n",
       " (3.0, 7.5, 0.16565),\n",
       " (3.0, 8.0, 0.16575),\n",
       " (3.0, 8.5, 0.16605),\n",
       " (3.0, 9.0, 0.16625),\n",
       " (3.0, 9.5, 0.1663),\n",
       " (3.0, 10.0, 0.1665),\n",
       " (3.0, 10.5, 0.1666),\n",
       " (3.5, 1.0, 0.18975),\n",
       " (3.5, 1.5, 0.19135),\n",
       " (3.5, 2.0, 0.193),\n",
       " (3.5, 2.5, 0.19355),\n",
       " (3.5, 3.0, 0.1943),\n",
       " (3.5, 3.5, 0.1951),\n",
       " (3.5, 4.0, 0.19545),\n",
       " (3.5, 4.5, 0.1958),\n",
       " (3.5, 5.0, 0.1962),\n",
       " (3.5, 5.5, 0.1965),\n",
       " (3.5, 6.0, 0.1966),\n",
       " (3.5, 6.5, 0.19675),\n",
       " (3.5, 7.0, 0.19695),\n",
       " (3.5, 7.5, 0.1971),\n",
       " (3.5, 8.0, 0.1972),\n",
       " (3.5, 8.5, 0.1973),\n",
       " (3.5, 9.0, 0.19745),\n",
       " (3.5, 9.5, 0.19775),\n",
       " (3.5, 10.0, 0.198),\n",
       " (3.5, 10.5, 0.1981),\n",
       " (4.0, 1.0, 0.21735),\n",
       " (4.0, 1.5, 0.2185),\n",
       " (4.0, 2.0, 0.2201),\n",
       " (4.0, 2.5, 0.2208),\n",
       " (4.0, 3.0, 0.2216),\n",
       " (4.0, 3.5, 0.22225),\n",
       " (4.0, 4.0, 0.2225),\n",
       " (4.0, 4.5, 0.22305),\n",
       " (4.0, 5.0, 0.2234),\n",
       " (4.0, 5.5, 0.2236),\n",
       " (4.0, 6.0, 0.2237),\n",
       " (4.0, 6.5, 0.22395),\n",
       " (4.0, 7.0, 0.2241),\n",
       " (4.0, 7.5, 0.22415),\n",
       " (4.0, 8.0, 0.2244),\n",
       " (4.0, 8.5, 0.2245),\n",
       " (4.0, 9.0, 0.2248),\n",
       " (4.0, 9.5, 0.2249),\n",
       " (4.0, 10.0, 0.22505),\n",
       " (4.0, 10.5, 0.22525),\n",
       " (4.5, 1.0, 0.24125),\n",
       " (4.5, 1.5, 0.24275),\n",
       " (4.5, 2.0, 0.2441),\n",
       " (4.5, 2.5, 0.24465),\n",
       " (4.5, 3.0, 0.24555),\n",
       " (4.5, 3.5, 0.24615),\n",
       " (4.5, 4.0, 0.2465),\n",
       " (4.5, 4.5, 0.2469),\n",
       " (4.5, 5.0, 0.2473),\n",
       " (4.5, 5.5, 0.2476),\n",
       " (4.5, 6.0, 0.2477),\n",
       " (4.5, 6.5, 0.24795),\n",
       " (4.5, 7.0, 0.248),\n",
       " (4.5, 7.5, 0.24815),\n",
       " (4.5, 8.0, 0.24845),\n",
       " (4.5, 8.5, 0.24865),\n",
       " (4.5, 9.0, 0.2488),\n",
       " (4.5, 9.5, 0.24905),\n",
       " (4.5, 10.0, 0.24915),\n",
       " (4.5, 10.5, 0.2493),\n",
       " (5.0, 1.0, 0.26275),\n",
       " (5.0, 1.5, 0.2641),\n",
       " (5.0, 2.0, 0.2653),\n",
       " (5.0, 2.5, 0.26595),\n",
       " (5.0, 3.0, 0.2671),\n",
       " (5.0, 3.5, 0.2675),\n",
       " (5.0, 4.0, 0.26785),\n",
       " (5.0, 4.5, 0.2683),\n",
       " (5.0, 5.0, 0.26875),\n",
       " (5.0, 5.5, 0.2691),\n",
       " (5.0, 6.0, 0.26915),\n",
       " (5.0, 6.5, 0.2694),\n",
       " (5.0, 7.0, 0.2695),\n",
       " (5.0, 7.5, 0.2696),\n",
       " (5.0, 8.0, 0.2698),\n",
       " (5.0, 8.5, 0.26995),\n",
       " (5.0, 9.0, 0.27015),\n",
       " (5.0, 9.5, 0.27025),\n",
       " (5.0, 10.0, 0.2704),\n",
       " (5.0, 10.5, 0.27045),\n",
       " (5.5, 1.0, 0.28195),\n",
       " (5.5, 1.5, 0.28335),\n",
       " (5.5, 2.0, 0.2845),\n",
       " (5.5, 2.5, 0.28525),\n",
       " (5.5, 3.0, 0.2861),\n",
       " (5.5, 3.5, 0.2864),\n",
       " (5.5, 4.0, 0.28685),\n",
       " (5.5, 4.5, 0.28715),\n",
       " (5.5, 5.0, 0.28755),\n",
       " (5.5, 5.5, 0.28785),\n",
       " (5.5, 6.0, 0.28795),\n",
       " (5.5, 6.5, 0.288),\n",
       " (5.5, 7.0, 0.28815),\n",
       " (5.5, 7.5, 0.2882),\n",
       " (5.5, 8.0, 0.28845),\n",
       " (5.5, 8.5, 0.28865),\n",
       " (5.5, 9.0, 0.2888),\n",
       " (5.5, 9.5, 0.289),\n",
       " (5.5, 10.0, 0.28915),\n",
       " (5.5, 10.5, 0.28925),\n",
       " (6.0, 1.0, 0.30105),\n",
       " (6.0, 1.5, 0.3023),\n",
       " (6.0, 2.0, 0.30335),\n",
       " (6.0, 2.5, 0.30415),\n",
       " (6.0, 3.0, 0.3049),\n",
       " (6.0, 3.5, 0.30535),\n",
       " (6.0, 4.0, 0.3056),\n",
       " (6.0, 4.5, 0.3061),\n",
       " (6.0, 5.0, 0.30645),\n",
       " (6.0, 5.5, 0.3067),\n",
       " (6.0, 6.0, 0.3068),\n",
       " (6.0, 6.5, 0.30705),\n",
       " (6.0, 7.0, 0.30715),\n",
       " (6.0, 7.5, 0.30725),\n",
       " (6.0, 8.0, 0.3074),\n",
       " (6.0, 8.5, 0.3075),\n",
       " (6.0, 9.0, 0.30765),\n",
       " (6.0, 9.5, 0.3078),\n",
       " (6.0, 10.0, 0.3079),\n",
       " (6.0, 10.5, 0.308),\n",
       " (6.5, 1.0, 0.31825),\n",
       " (6.5, 1.5, 0.31965),\n",
       " (6.5, 2.0, 0.321),\n",
       " (6.5, 2.5, 0.3214),\n",
       " (6.5, 3.0, 0.3223),\n",
       " (6.5, 3.5, 0.3229),\n",
       " (6.5, 4.0, 0.3232),\n",
       " (6.5, 4.5, 0.3236),\n",
       " (6.5, 5.0, 0.3239),\n",
       " (6.5, 5.5, 0.3241),\n",
       " (6.5, 6.0, 0.32425),\n",
       " (6.5, 6.5, 0.32435),\n",
       " (6.5, 7.0, 0.3244),\n",
       " (6.5, 7.5, 0.32445),\n",
       " (6.5, 8.0, 0.32455),\n",
       " (6.5, 8.5, 0.3246),\n",
       " (6.5, 9.0, 0.32485),\n",
       " (6.5, 9.5, 0.32505),\n",
       " (6.5, 10.0, 0.3251),\n",
       " (6.5, 10.5, 0.32515),\n",
       " (7.0, 1.0, 0.33535),\n",
       " (7.0, 1.5, 0.3368),\n",
       " (7.0, 2.0, 0.33805),\n",
       " (7.0, 2.5, 0.3386),\n",
       " (7.0, 3.0, 0.3394),\n",
       " (7.0, 3.5, 0.33985),\n",
       " (7.0, 4.0, 0.34005),\n",
       " (7.0, 4.5, 0.34045),\n",
       " (7.0, 5.0, 0.34075),\n",
       " (7.0, 5.5, 0.34095),\n",
       " (7.0, 6.0, 0.3411),\n",
       " (7.0, 6.5, 0.34115),\n",
       " (7.0, 7.0, 0.3412),\n",
       " (7.0, 7.5, 0.3413),\n",
       " (7.0, 8.0, 0.34145),\n",
       " (7.0, 8.5, 0.34155),\n",
       " (7.0, 9.0, 0.3417),\n",
       " (7.0, 9.5, 0.3418),\n",
       " (7.0, 10.0, 0.34195),\n",
       " (7.0, 10.5, 0.3421),\n",
       " (7.5, 1.0, 0.35105),\n",
       " (7.5, 1.5, 0.3524),\n",
       " (7.5, 2.0, 0.3537),\n",
       " (7.5, 2.5, 0.3543),\n",
       " (7.5, 3.0, 0.35505),\n",
       " (7.5, 3.5, 0.3554),\n",
       " (7.5, 4.0, 0.35565),\n",
       " (7.5, 4.5, 0.356),\n",
       " (7.5, 5.0, 0.3563),\n",
       " (7.5, 5.5, 0.35645),\n",
       " (7.5, 6.0, 0.35655),\n",
       " (7.5, 6.5, 0.3567),\n",
       " (7.5, 7.0, 0.3568),\n",
       " (7.5, 7.5, 0.35685),\n",
       " (7.5, 8.0, 0.35695),\n",
       " (7.5, 8.5, 0.3571),\n",
       " (7.5, 9.0, 0.3573),\n",
       " (7.5, 9.5, 0.35755),\n",
       " (7.5, 10.0, 0.35765),\n",
       " (7.5, 10.5, 0.35785),\n",
       " (8.0, 1.0, 0.3657),\n",
       " (8.0, 1.5, 0.36695),\n",
       " (8.0, 2.0, 0.36805),\n",
       " (8.0, 2.5, 0.36855),\n",
       " (8.0, 3.0, 0.36925),\n",
       " (8.0, 3.5, 0.36965),\n",
       " (8.0, 4.0, 0.36985),\n",
       " (8.0, 4.5, 0.37015),\n",
       " (8.0, 5.0, 0.37045),\n",
       " (8.0, 5.5, 0.37075),\n",
       " (8.0, 6.0, 0.3708),\n",
       " (8.0, 6.5, 0.37095),\n",
       " (8.0, 7.0, 0.3711),\n",
       " (8.0, 7.5, 0.37115),\n",
       " (8.0, 8.0, 0.3714),\n",
       " (8.0, 8.5, 0.3716),\n",
       " (8.0, 9.0, 0.37175),\n",
       " (8.0, 9.5, 0.37185),\n",
       " (8.0, 10.0, 0.372),\n",
       " (8.0, 10.5, 0.3721),\n",
       " (8.5, 1.0, 0.3799),\n",
       " (8.5, 1.5, 0.38105),\n",
       " (8.5, 2.0, 0.3824),\n",
       " (8.5, 2.5, 0.3827),\n",
       " (8.5, 3.0, 0.38335),\n",
       " (8.5, 3.5, 0.3838),\n",
       " (8.5, 4.0, 0.3841),\n",
       " (8.5, 4.5, 0.3844),\n",
       " (8.5, 5.0, 0.3848),\n",
       " (8.5, 5.5, 0.385),\n",
       " (8.5, 6.0, 0.3851),\n",
       " (8.5, 6.5, 0.38525),\n",
       " (8.5, 7.0, 0.38535),\n",
       " (8.5, 7.5, 0.3855),\n",
       " (8.5, 8.0, 0.38575),\n",
       " (8.5, 8.5, 0.3858),\n",
       " (8.5, 9.0, 0.3861),\n",
       " (8.5, 9.5, 0.3863),\n",
       " (8.5, 10.0, 0.38645),\n",
       " (8.5, 10.5, 0.38655),\n",
       " (9.0, 1.0, 0.395),\n",
       " (9.0, 1.5, 0.3961),\n",
       " (9.0, 2.0, 0.39725),\n",
       " (9.0, 2.5, 0.39765),\n",
       " (9.0, 3.0, 0.3984),\n",
       " (9.0, 3.5, 0.3988),\n",
       " (9.0, 4.0, 0.39905),\n",
       " (9.0, 4.5, 0.3994),\n",
       " (9.0, 5.0, 0.3997),\n",
       " (9.0, 5.5, 0.3999),\n",
       " (9.0, 6.0, 0.39995),\n",
       " (9.0, 6.5, 0.40005),\n",
       " (9.0, 7.0, 0.4002),\n",
       " (9.0, 7.5, 0.40025),\n",
       " (9.0, 8.0, 0.40035),\n",
       " (9.0, 8.5, 0.4005),\n",
       " (9.0, 9.0, 0.40065),\n",
       " (9.0, 9.5, 0.40075),\n",
       " (9.0, 10.0, 0.40085),\n",
       " (9.0, 10.5, 0.40115),\n",
       " (9.5, 1.0, 0.40905),\n",
       " (9.5, 1.5, 0.4102),\n",
       " (9.5, 2.0, 0.4111),\n",
       " (9.5, 2.5, 0.41175),\n",
       " (9.5, 3.0, 0.4123),\n",
       " (9.5, 3.5, 0.4126),\n",
       " (9.5, 4.0, 0.41285),\n",
       " (9.5, 4.5, 0.41305),\n",
       " (9.5, 5.0, 0.41335),\n",
       " (9.5, 5.5, 0.4137),\n",
       " (9.5, 6.0, 0.41385),\n",
       " (9.5, 6.5, 0.4139),\n",
       " (9.5, 7.0, 0.4141),\n",
       " (9.5, 7.5, 0.41425),\n",
       " (9.5, 8.0, 0.41435),\n",
       " (9.5, 8.5, 0.4144),\n",
       " (9.5, 9.0, 0.4147),\n",
       " (9.5, 9.5, 0.4149),\n",
       " (9.5, 10.0, 0.415),\n",
       " (9.5, 10.5, 0.4151),\n",
       " (10.0, 1.0, 0.42365),\n",
       " (10.0, 1.5, 0.42475),\n",
       " (10.0, 2.0, 0.4257),\n",
       " (10.0, 2.5, 0.4262),\n",
       " (10.0, 3.0, 0.4267),\n",
       " (10.0, 3.5, 0.4271),\n",
       " (10.0, 4.0, 0.42735),\n",
       " (10.0, 4.5, 0.4276),\n",
       " (10.0, 5.0, 0.42795),\n",
       " (10.0, 5.5, 0.42815),\n",
       " (10.0, 6.0, 0.4282),\n",
       " (10.0, 6.5, 0.42825),\n",
       " (10.0, 7.0, 0.42845),\n",
       " (10.0, 7.5, 0.4285),\n",
       " (10.0, 8.0, 0.42885),\n",
       " (10.0, 8.5, 0.42895),\n",
       " (10.0, 9.0, 0.4292),\n",
       " (10.0, 9.5, 0.4294),\n",
       " (10.0, 10.0, 0.4295),\n",
       " (10.0, 10.5, 0.42965),\n",
       " (10.5, 1.0, 0.43915),\n",
       " (10.5, 1.5, 0.4401),\n",
       " (10.5, 2.0, 0.4411),\n",
       " (10.5, 2.5, 0.44155),\n",
       " (10.5, 3.0, 0.44205),\n",
       " (10.5, 3.5, 0.44235),\n",
       " (10.5, 4.0, 0.4427),\n",
       " (10.5, 4.5, 0.44305),\n",
       " (10.5, 5.0, 0.44345),\n",
       " (10.5, 5.5, 0.4437),\n",
       " (10.5, 6.0, 0.44385),\n",
       " (10.5, 6.5, 0.444),\n",
       " (10.5, 7.0, 0.4441),\n",
       " (10.5, 7.5, 0.4442),\n",
       " (10.5, 8.0, 0.44455),\n",
       " (10.5, 8.5, 0.4447),\n",
       " (10.5, 9.0, 0.4449),\n",
       " (10.5, 9.5, 0.44495),\n",
       " (10.5, 10.0, 0.44505),\n",
       " (10.5, 10.5, 0.4452)]"
      ]
     },
     "execution_count": 76,
     "metadata": {},
     "output_type": "execute_result"
    }
   ],
   "source": [
    "# accu3[:5], accu3[-5:]\n",
    "accu3"
   ]
  },
  {
   "cell_type": "code",
   "execution_count": 77,
   "metadata": {},
   "outputs": [
    {
     "data": {
      "image/png": "[encoded data removed]",
      "text/plain": [
       "<Figure size 432x288 with 1 Axes>"
      ]
     },
     "metadata": {
      "needs_background": "light"
     },
     "output_type": "display_data"
    }
   ],
   "source": [
    "plot_heatmap(accu3)"
   ]
  },
  {
   "cell_type": "markdown",
   "metadata": {},
   "source": [
    "In the weight ranges used by `accu3`, weight1 dominates."
   ]
  },
  {
   "cell_type": "code",
   "execution_count": 78,
   "metadata": {},
   "outputs": [
    {
     "data": {
      "text/plain": [
       "[(11.0, 15, 0.4598),\n",
       " (11.5, 15, 0.4725),\n",
       " (12.0, 15, 0.48775),\n",
       " (12.5, 15, 0.5004),\n",
       " (13.0, 15, 0.513),\n",
       " (13.5, 15, 0.52475),\n",
       " (14.0, 15, 0.5362),\n",
       " (14.5, 15, 0.54705),\n",
       " (15.0, 15, 0.55455),\n",
       " (15.5, 15, 0.5641),\n",
       " (16.0, 15, 0.5726),\n",
       " (16.5, 15, 0.5813),\n",
       " (17.0, 15, 0.5894),\n",
       " (17.5, 15, 0.59615),\n",
       " (18.0, 15, 0.6026),\n",
       " (18.5, 15, 0.60945),\n",
       " (19.0, 15, 0.61465),\n",
       " (19.5, 15, 0.6197),\n",
       " (20.0, 15, 0.6243),\n",
       " (20.5, 15, 0.6285)]"
      ]
     },
     "execution_count": 78,
     "metadata": {},
     "output_type": "execute_result"
    }
   ],
   "source": [
    "accu4 = get_accuracies(11, 21, 0.5, 15, 16, 1)\n",
    "accu4"
   ]
  },
  {
   "cell_type": "code",
   "execution_count": 79,
   "metadata": {},
   "outputs": [
    {
     "data": {
      "text/plain": [
       "[(21, 15, 0.633),\n",
       " (22, 15, 0.64095),\n",
       " (23, 15, 0.64825),\n",
       " (24, 15, 0.65405),\n",
       " (25, 15, 0.6597),\n",
       " (26, 15, 0.66435),\n",
       " (27, 15, 0.66885),\n",
       " (28, 15, 0.67275),\n",
       " (29, 15, 0.6766),\n",
       " (30, 15, 0.6794),\n",
       " (31, 15, 0.6824),\n",
       " (32, 15, 0.6851),\n",
       " (33, 15, 0.68785),\n",
       " (34, 15, 0.69075),\n",
       " (35, 15, 0.69325),\n",
       " (36, 15, 0.69515),\n",
       " (37, 15, 0.69745),\n",
       " (38, 15, 0.69985),\n",
       " (39, 15, 0.70185),\n",
       " (40, 15, 0.70395)]"
      ]
     },
     "execution_count": 79,
     "metadata": {},
     "output_type": "execute_result"
    }
   ],
   "source": [
    "accu5 = get_accuracies(21, 41, 1, 15, 16, 1)\n",
    "accu5"
   ]
  },
  {
   "cell_type": "code",
   "execution_count": 80,
   "metadata": {},
   "outputs": [
    {
     "data": {
      "text/plain": [
       "[(41.0, 15, 0.7052),\n",
       " (41.5, 15, 0.7057),\n",
       " (42.0, 15, 0.70665),\n",
       " (42.5, 15, 0.7072),\n",
       " (43.0, 15, 0.70795),\n",
       " (43.5, 15, 0.7086),\n",
       " (44.0, 15, 0.70945),\n",
       " (44.5, 15, 0.7101),\n",
       " (45.0, 15, 0.71075),\n",
       " (45.5, 15, 0.7115),\n",
       " (46.0, 15, 0.71205),\n",
       " (46.5, 15, 0.7126),\n",
       " (47.0, 15, 0.7132),\n",
       " (47.5, 15, 0.7135),\n",
       " (48.0, 15, 0.71375),\n",
       " (48.5, 15, 0.7143),\n",
       " (49.0, 15, 0.71435),\n",
       " (49.5, 15, 0.71495),\n",
       " (50.0, 15, 0.71535),\n",
       " (50.5, 15, 0.7159),\n",
       " (51.0, 15, 0.7162),\n",
       " (51.5, 15, 0.7163),\n",
       " (52.0, 15, 0.71675),\n",
       " (52.5, 15, 0.71715),\n",
       " (53.0, 15, 0.71755),\n",
       " (53.5, 15, 0.71755),\n",
       " (54.0, 15, 0.71815),\n",
       " (54.5, 15, 0.71855),\n",
       " (55.0, 15, 0.7189),\n",
       " (55.5, 15, 0.7194),\n",
       " (56.0, 15, 0.71965),\n",
       " (56.5, 15, 0.71995),\n",
       " (57.0, 15, 0.7202),\n",
       " (57.5, 15, 0.72065),\n",
       " (58.0, 15, 0.7211),\n",
       " (58.5, 15, 0.72135),\n",
       " (59.0, 15, 0.72195),\n",
       " (59.5, 15, 0.7225),\n",
       " (60.0, 15, 0.7227),\n",
       " (60.5, 15, 0.7229)]"
      ]
     },
     "execution_count": 80,
     "metadata": {},
     "output_type": "execute_result"
    }
   ],
   "source": [
    "accu6 = get_accuracies(41, 61, 0.5, 15, 16, 1)\n",
    "accu6"
   ]
  },
  {
   "cell_type": "code",
   "execution_count": 81,
   "metadata": {},
   "outputs": [
    {
     "data": {
      "text/plain": [
       "[(11, 0.4598),\n",
       " (13, 0.513),\n",
       " (15, 0.55455),\n",
       " (17, 0.5894),\n",
       " (19, 0.61465),\n",
       " (21, 0.633),\n",
       " (23, 0.64825),\n",
       " (25, 0.6597),\n",
       " (27, 0.66885),\n",
       " (29, 0.6766),\n",
       " (31, 0.6824),\n",
       " (33, 0.68785),\n",
       " (35, 0.69325),\n",
       " (37, 0.69745),\n",
       " (39, 0.70185),\n",
       " (41, 0.7052),\n",
       " (43, 0.70795),\n",
       " (45, 0.71075),\n",
       " (47, 0.7132),\n",
       " (49, 0.71435),\n",
       " (51, 0.7162),\n",
       " (53, 0.71755),\n",
       " (55, 0.7189),\n",
       " (57, 0.7202),\n",
       " (59, 0.72195),\n",
       " (61, 0.7235),\n",
       " (63, 0.72495),\n",
       " (65, 0.72625),\n",
       " (67, 0.72785),\n",
       " (69, 0.7287),\n",
       " (71, 0.7295),\n",
       " (73, 0.7305),\n",
       " (75, 0.7311),\n",
       " (77, 0.7321),\n",
       " (79, 0.7333),\n",
       " (81, 0.73385),\n",
       " (83, 0.7347),\n",
       " (85, 0.73545),\n",
       " (87, 0.73655),\n",
       " (89, 0.73725),\n",
       " (91, 0.73805),\n",
       " (93, 0.73875),\n",
       " (95, 0.73905),\n",
       " (97, 0.73965),\n",
       " (99, 0.74)]"
      ]
     },
     "execution_count": 81,
     "metadata": {},
     "output_type": "execute_result"
    }
   ],
   "source": [
    "accu7 = get_accuracies(11, 101, 2, 15, 16, 1)\n",
    "w1_to_accu = [(x, y) for x, _, y in accu7]\n",
    "w1_to_accu"
   ]
  },
  {
   "cell_type": "code",
   "execution_count": 82,
   "metadata": {},
   "outputs": [
    {
     "data": {
      "text/plain": [
       "[(101, 0.7405),\n",
       " (111, 0.74235),\n",
       " (121, 0.74335),\n",
       " (131, 0.74415),\n",
       " (141, 0.7448),\n",
       " (151, 0.74595),\n",
       " (161, 0.74615),\n",
       " (171, 0.7479),\n",
       " (181, 0.7488),\n",
       " (191, 0.74945)]"
      ]
     },
     "execution_count": 82,
     "metadata": {},
     "output_type": "execute_result"
    }
   ],
   "source": [
    "accu8 = get_accuracies(101, 201, 10, 15, 16, 1)\n",
    "w1_to_accu = [(x, y) for x, _, y in accu8]\n",
    "w1_to_accu"
   ]
  },
  {
   "cell_type": "code",
   "execution_count": 94,
   "metadata": {},
   "outputs": [
    {
     "data": {
      "text/plain": [
       "[(201, 0.74975),\n",
       " (301, 0.7559),\n",
       " (401, 0.75715),\n",
       " (501, 0.75715),\n",
       " (601, 0.75715),\n",
       " (701, 0.75715),\n",
       " (801, 0.75715),\n",
       " (901, 0.75715),\n",
       " (1001, 0.75715),\n",
       " (1101, 0.75715),\n",
       " (1201, 0.75715),\n",
       " (1301, 0.75715),\n",
       " (1401, 0.75715),\n",
       " (1501, 0.75715),\n",
       " (1601, 0.75715),\n",
       " (1701, 0.75715),\n",
       " (1801, 0.75715),\n",
       " (1901, 0.75715),\n",
       " (2001, 0.75715),\n",
       " (2101, 0.75715),\n",
       " (2201, 0.75715),\n",
       " (2301, 0.75715),\n",
       " (2401, 0.75715),\n",
       " (2501, 0.75715),\n",
       " (2601, 0.75715)]"
      ]
     },
     "execution_count": 94,
     "metadata": {},
     "output_type": "execute_result"
    }
   ],
   "source": [
    "accu9 = get_accuracies(201, 2701, 100, 15, 16, 1)\n",
    "w1_to_accu = [(x, y) for x, _, y in accu9]\n",
    "w1_to_accu"
   ]
  },
  {
   "cell_type": "markdown",
   "metadata": {},
   "source": [
    "w1 doesn't seem to matter when it reaches 400."
   ]
  },
  {
   "cell_type": "code",
   "execution_count": 95,
   "metadata": {},
   "outputs": [
    {
     "data": {
      "text/plain": [
       "[(10, 0.75695),\n",
       " (20, 0.7573),\n",
       " (30, 0.7576),\n",
       " (40, 0.75775),\n",
       " (50, 0.7581),\n",
       " (60, 0.7583),\n",
       " (70, 0.75835),\n",
       " (80, 0.7585),\n",
       " (90, 0.7585),\n",
       " (100, 0.7586),\n",
       " (110, 0.7587),\n",
       " (120, 0.75885),\n",
       " (130, 0.7589),\n",
       " (140, 0.7589),\n",
       " (150, 0.759),\n",
       " (160, 0.75905),\n",
       " (170, 0.75915),\n",
       " (180, 0.75935),\n",
       " (190, 0.75945)]"
      ]
     },
     "execution_count": 95,
     "metadata": {},
     "output_type": "execute_result"
    }
   ],
   "source": [
    "accu9 = get_accuracies(400, 401, 1, 10, 200, 10)\n",
    "w2_to_accu = [(x, y) for _, x, y in accu9]\n",
    "w2_to_accu"
   ]
  },
  {
   "cell_type": "code",
   "execution_count": 97,
   "metadata": {},
   "outputs": [
    {
     "data": {
      "text/plain": [
       "[(200, 0.75945),\n",
       " (300, 0.76005),\n",
       " (400, 0.7605),\n",
       " (500, 0.76075),\n",
       " (600, 0.76085),\n",
       " (700, 0.76095),\n",
       " (800, 0.7611),\n",
       " (900, 0.7612),\n",
       " (1000, 0.7612),\n",
       " (1100, 0.7612),\n",
       " (1200, 0.7612),\n",
       " (1300, 0.7613),\n",
       " (1400, 0.76135),\n",
       " (1500, 0.76135),\n",
       " (1600, 0.7614),\n",
       " (1700, 0.76145),\n",
       " (1800, 0.76145),\n",
       " (1900, 0.7615),\n",
       " (2000, 0.7615),\n",
       " (2100, 0.7615),\n",
       " (2200, 0.7615),\n",
       " (2300, 0.7615),\n",
       " (2400, 0.7615),\n",
       " (2500, 0.7615),\n",
       " (2600, 0.7616),\n",
       " (2700, 0.7616),\n",
       " (2800, 0.7616),\n",
       " (2900, 0.7616)]"
      ]
     },
     "execution_count": 97,
     "metadata": {},
     "output_type": "execute_result"
    }
   ],
   "source": [
    "accu10 = get_accuracies(400, 401, 1, 200, 3000, 100)\n",
    "w2_to_accu = [(x, y) for _, x, y in accu10]\n",
    "w2_to_accu"
   ]
  },
  {
   "cell_type": "markdown",
   "metadata": {},
   "source": [
    "## Conclusion\n",
    "\n",
    "The accuracy increases as both weights increase, and stays 0.76 when weight1 set to >=400 and weight2 set to >= 2600."
   ]
  }
 ],
 "metadata": {
  "interpreter": {
   "hash": "0691836f2c36ad69511e01cf4a640149ee224e5af13b1611cd4c10702a214822"
  },
  "kernelspec": {
   "display_name": "Python 3.10.4 ('dl')",
   "language": "python",
   "name": "python3"
  },
  "language_info": {
   "codemirror_mode": {
    "name": "ipython",
    "version": 3
   },
   "file_extension": ".py",
   "mimetype": "text/x-python",
   "name": "python",
   "nbconvert_exporter": "python",
   "pygments_lexer": "ipython3",
   "version": "3.10.4"
  },
  "orig_nbformat": 4
 },
 "nbformat": 4,
 "nbformat_minor": 2
}
